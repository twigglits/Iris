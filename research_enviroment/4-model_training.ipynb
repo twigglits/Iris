{
 "cells": [
  {
   "cell_type": "markdown",
   "metadata": {},
   "source": [
    "# Iris\n",
    "\n",
    "\n",
    "We will go through the implementation of each of the steps in the Machine Learning Pipeline.\n",
    "\n",
    "We make use of the iris dataset, a well-known and simple multi-class classification dataset.\n",
    "\n",
    "1. Data Analysis\n",
    "2. Feature Engineering\n",
    "3. Feature Selection\n",
    "4. Model Training\n",
    "5. Obtaining Predictions / Scoring"
   ]
  },
  {
   "cell_type": "code",
   "execution_count": 16,
   "metadata": {},
   "outputs": [
    {
     "name": "stderr",
     "output_type": "stream",
     "text": [
      "2022-09-24 11:54:33.222 | INFO     | utils:load_iris_data:10 - Loading iris data with species\n",
      "2022-09-24 11:54:33.227 | SUCCESS  | utils:load_iris_data:22 - Done: Iris data loaded\n"
     ]
    },
    {
     "name": "stdout",
     "output_type": "stream",
     "text": [
      "<class 'pandas.core.frame.DataFrame'>\n",
      "RangeIndex: 150 entries, 0 to 149\n",
      "Data columns (total 6 columns):\n",
      " #   Column             Non-Null Count  Dtype  \n",
      "---  ------             --------------  -----  \n",
      " 0   sepal length (cm)  150 non-null    float64\n",
      " 1   sepal width (cm)   150 non-null    float64\n",
      " 2   petal length (cm)  150 non-null    float64\n",
      " 3   petal width (cm)   150 non-null    float64\n",
      " 4   target             150 non-null    int64  \n",
      " 5   species            150 non-null    object \n",
      "dtypes: float64(4), int64(1), object(1)\n",
      "memory usage: 7.2+ KB\n"
     ]
    }
   ],
   "source": [
    "%reload_ext autoreload\n",
    "%autoreload 2\n",
    "%matplotlib inline\n",
    "\n",
    "\n",
    "# import sklearn datasets and load iris dataset as a dataframe\n",
    "from sklearn import datasets\n",
    "import pandas as pd\n",
    "import numpy as np\n",
    "import matplotlib.pyplot as plt\n",
    "import utils as utils\n",
    "\n",
    "iris = utils.load_iris_data()\n",
    "\n",
    "#    =================   ==============\n",
    "#    Classes                          3\n",
    "#    Samples per class               50\n",
    "#    Samples total                  150\n",
    "#    Dimensionality                   4\n",
    "#    Features            real, positive\n",
    "#    =================   ==============\n",
    "\n",
    "df.info()"
   ]
  }
 ],
 "metadata": {
  "kernelspec": {
   "display_name": "Python 3.9.12 64-bit ('3.9.12')",
   "language": "python",
   "name": "python3"
  },
  "language_info": {
   "codemirror_mode": {
    "name": "ipython",
    "version": 3
   },
   "file_extension": ".py",
   "mimetype": "text/x-python",
   "name": "python",
   "nbconvert_exporter": "python",
   "pygments_lexer": "ipython3",
   "version": "3.9.12"
  },
  "orig_nbformat": 4,
  "vscode": {
   "interpreter": {
    "hash": "99f4955dfe06815b3846311c1c954a5d8070f25821bbfb81f29cebf968fdf5d0"
   }
  }
 },
 "nbformat": 4,
 "nbformat_minor": 2
}
